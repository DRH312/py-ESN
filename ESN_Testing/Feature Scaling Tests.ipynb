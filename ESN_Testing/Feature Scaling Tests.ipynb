{
 "cells": [
  {
   "cell_type": "code",
   "execution_count": 1,
   "outputs": [
    {
     "name": "stdout",
     "output_type": "stream",
     "text": [
      "Appending /home/dafydd/PycharmProjects/py-ESN-software-testing/EchoStateNetwork-Workshop to sys.path\n",
      "Current sys.path: ['/home/dafydd/PycharmProjects/py-ESN-software-testing/EchoStateNetwork-Workshop', '/home/dafydd/PycharmProjects/py-ESN-software-testing', '/usr/lib/python310.zip', '/usr/lib/python3.10', '/usr/lib/python3.10/lib-dynload', '', '/home/dafydd/.local/lib/python3.10/site-packages', '/usr/local/lib/python3.10/dist-packages', '/usr/lib/python3/dist-packages']\n",
      "Successfully imported EchoStateNetwork!\n"
     ]
    }
   ],
   "source": [
    "import sys\n",
    "import os\n",
    "\n",
    "# Define the directory path to the module\n",
    "ESN_path = os.path.abspath(os.path.join(os.getcwd(), \"../EchoStateNetwork-Workshop\"))\n",
    "print(f\"Appending {ESN_path} to sys.path\")\n",
    "\n",
    "# Add the directory to sys.path\n",
    "if ESN_path not in sys.path:\n",
    "    sys.path.insert(0, ESN_path)\n",
    "\n",
    "# Validate that the path was added\n",
    "print(\"Current sys.path:\", sys.path)\n",
    "\n",
    "# Test the import\n",
    "try:\n",
    "    from ESN_class_main import EchoStateNetwork\n",
    "    print(\"Successfully imported EchoStateNetwork!\")\n",
    "except ModuleNotFoundError as e:\n",
    "    print(f\"Import failed: {e}\")"
   ],
   "metadata": {
    "collapsed": false,
    "ExecuteTime": {
     "end_time": "2025-01-10T11:04:16.413869856Z",
     "start_time": "2025-01-10T11:04:15.054755572Z"
    }
   },
   "id": "29dad8ce8f553015"
  },
  {
   "cell_type": "code",
   "execution_count": 10,
   "outputs": [],
   "source": [
    "import numpy as np\n",
    "\n",
    "# Define parameters for the ESN\n",
    "ESN_params = {\n",
    "    'input_dim': 3,       # K: Number of input features\n",
    "    'nodes': 5,           # N: Number of reservoir nodes\n",
    "    'output_dim': 2,      # L: Number of output features\n",
    "    'ridge': 1e-6,        # Ridge regression penalty\n",
    "    'leak': 0.2,          # Leaking rate\n",
    "    'connectivity': 0.1,  # Reservoir sparsity\n",
    "    'input_scaling': np.array([0.5, 1.0, 1.5]),  # Scaling factors for inputs\n",
    "    'spectral_radius': 0.9,\n",
    "    'enable_forcing': True,  # Enable feedback\n",
    "    'seed': 42,\n",
    "    'bias': 0,\n",
    "    'teacher_scaling': np.array([1.2, 0.8]),  # Scaling factors for feedback\n",
    "    'train_length': 500,\n",
    "    'prediction_length': 50\n",
    "}"
   ],
   "metadata": {
    "collapsed": false,
    "ExecuteTime": {
     "end_time": "2025-01-10T11:13:19.906672716Z",
     "start_time": "2025-01-10T11:13:19.846176203Z"
    }
   },
   "id": "9b888708f16f02aa"
  },
  {
   "cell_type": "code",
   "execution_count": 12,
   "outputs": [
    {
     "name": "stdout",
     "output_type": "stream",
     "text": [
      "Scaled Inputs:\n",
      "[[ 0.5  1.   1.5]\n",
      " [ 4.   5.   6. ]\n",
      " [10.5 12.  13.5]]\n",
      "Scaled Feedback:\n",
      "[[0.6  0.72 0.84]\n",
      " [0.8  0.88 0.96]]\n",
      "All tests passed!\n"
     ]
    }
   ],
   "source": [
    "esn = EchoStateNetwork(ESN_params)\n",
    "\n",
    "# Mock input and feedback data\n",
    "inputs = np.array([[1, 2, 3],\n",
    "                   [4, 5, 6],\n",
    "                   [7, 8, 9]])  # Shape: (K, timesteps)\n",
    "\n",
    "feedback = np.array([[0.5, 0.6, 0.7],\n",
    "                     [1.0, 1.1, 1.2]])  # Shape: (L, timesteps)\n",
    "\n",
    "# Test _scale_inputs\n",
    "scaled_inputs = esn._scale_inputs(inputs)\n",
    "print(\"Scaled Inputs:\")\n",
    "print(scaled_inputs)\n",
    "\n",
    "# Verify scaling is applied correctly\n",
    "expected_scaled_inputs = inputs * ESN_params['input_scaling'][:, None]\n",
    "assert np.allclose(scaled_inputs, expected_scaled_inputs), \"Input scaling failed!\"\n",
    "\n",
    "# Test _scale_feedback\n",
    "scaled_feedback = esn._scale_feedback(feedback)\n",
    "print(\"Scaled Feedback:\")\n",
    "print(scaled_feedback)\n",
    "\n",
    "# Verify scaling is applied correctly\n",
    "expected_scaled_feedback = feedback * ESN_params['teacher_scaling'][:, None]\n",
    "assert np.allclose(scaled_feedback, expected_scaled_feedback), \"Feedback scaling failed!\"\n",
    "\n",
    "print(\"All tests passed!\")"
   ],
   "metadata": {
    "collapsed": false,
    "ExecuteTime": {
     "end_time": "2025-01-10T11:14:31.132480386Z",
     "start_time": "2025-01-10T11:14:31.089474181Z"
    }
   },
   "id": "1a2bddf062c7233e"
  },
  {
   "cell_type": "code",
   "execution_count": null,
   "outputs": [],
   "source": [],
   "metadata": {
    "collapsed": false
   },
   "id": "4d1bfa1991d70a88"
  }
 ],
 "metadata": {
  "kernelspec": {
   "display_name": "Python 3",
   "language": "python",
   "name": "python3"
  },
  "language_info": {
   "codemirror_mode": {
    "name": "ipython",
    "version": 2
   },
   "file_extension": ".py",
   "mimetype": "text/x-python",
   "name": "python",
   "nbconvert_exporter": "python",
   "pygments_lexer": "ipython2",
   "version": "2.7.6"
  }
 },
 "nbformat": 4,
 "nbformat_minor": 5
}
